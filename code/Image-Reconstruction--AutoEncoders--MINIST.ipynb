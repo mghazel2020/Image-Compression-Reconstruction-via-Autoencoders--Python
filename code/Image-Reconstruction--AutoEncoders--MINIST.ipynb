{
 "cells": [
  {
   "cell_type": "markdown",
   "metadata": {},
   "source": [
    "# Project: MNIST Dataset Image Compression and Reconstruction using Autoencoders:\n",
    "* The objective of this project is to demonstrate how to compress and reconstruct MNIST images using Autoencoders."
   ]
  },
  {
   "cell_type": "markdown",
   "metadata": {},
   "source": [
    "### Author: Mohsen Ghazel (mghazel)\n",
    "* Date: May 9th, 2021"
   ]
  },
  {
   "cell_type": "markdown",
   "metadata": {},
   "source": [
    "## Part 1: Python imports and global variables: "
   ]
  },
  {
   "cell_type": "markdown",
   "metadata": {},
   "source": [
    "### 1.1) Python imports:"
   ]
  },
  {
   "cell_type": "code",
   "execution_count": 44,
   "metadata": {
    "scrolled": false
   },
   "outputs": [
    {
     "name": "stdout",
     "output_type": "stream",
     "text": [
      "OpenCV :  3.4.8\n",
      "Numpy :  1.19.2\n"
     ]
    }
   ],
   "source": [
    "#------------------------------------------------------\n",
    "# Python imports and environment setup\n",
    "#------------------------------------------------------\n",
    "# opencv\n",
    "import cv2\n",
    "# numpy\n",
    "import numpy as np\n",
    "# matplotlib\n",
    "import matplotlib.pyplot as plt\n",
    "\n",
    "# import tansorflow\n",
    "#----------------------------------\n",
    "# Importing: Tensorflow 2.0 \n",
    "# resulted in the following error:\n",
    "#---------------------------------\n",
    "# AttributeError: module 'tensorflow' \n",
    "# has no attribute 'placeholder'\n",
    "#---------------------------------\n",
    "# import tensorflow as tf\n",
    "#---------------------------------\n",
    "# We need to revert to using \n",
    "# Tensorflow ver 1.x\n",
    "#---------------------------------\n",
    "import tensorflow.compat.v1 as tf\n",
    "tf.disable_v2_behavior() \n",
    "#---------------------------------\n",
    "# import additional functionalities\n",
    "from __future__ import print_function, division\n",
    "from builtins import range, input\n",
    "\n",
    "# import shuffle  from sklearn\n",
    "from sklearn.utils import shuffle\n",
    "\n",
    "# import pandas\n",
    "import pandas as pd\n",
    "\n",
    "# random number generators values\n",
    "# seed for reproducing the random number generation\n",
    "from random import seed\n",
    "# random integers: I(0,M)\n",
    "from random import randint\n",
    "# random standard unform: U(0,1)\n",
    "from random import random\n",
    "# time\n",
    "import datetime\n",
    "# I/O\n",
    "import os\n",
    "# sys\n",
    "import sys\n",
    "\n",
    "# display figure within the notebook\n",
    "%matplotlib inline\n",
    "\n",
    "#------------------------------------------------------\n",
    "# Test imports and display package versions\n",
    "#------------------------------------------------------\n",
    "# Testing the OpenCV version\n",
    "print(\"OpenCV : \",cv2.__version__)\n",
    "# Testing the numpy version\n",
    "print(\"Numpy : \",np.__version__)"
   ]
  },
  {
   "cell_type": "markdown",
   "metadata": {},
   "source": [
    "#### 1.2) Global variables:"
   ]
  },
  {
   "cell_type": "code",
   "execution_count": 45,
   "metadata": {
    "scrolled": false
   },
   "outputs": [],
   "source": [
    "# set the random_state seed = 100 for reproducibilty\n",
    "random_state_seed = 100\n",
    "\n",
    "# the number of visualized images\n",
    "num_visualized_images = 25"
   ]
  },
  {
   "cell_type": "markdown",
   "metadata": {},
   "source": [
    "## Part 2: Read the input data:\n",
    "\n",
    "* We use the MINIST dataset, which was downloaded from the following link: \n",
    "  * Kaggle: Digit Recognizer: https://www.kaggle.com/c/digit-recognizer/data\n",
    "  * The data files train.csv and test.csv contain gray-scale images of hand-drawn digits, from zero through nine.\n",
    "  * Each image is 28 pixels in height and 28 pixels in width, for a total of 784 pixels in total. Each pixel has a single pixel-value associated with it, indicating the lightness or darkness of that pixel, with higher numbers meaning darker. This pixel-value is an integer between 0 and 255, inclusive.\n",
    "  * The training data set, (train.csv), has 785 columns. The first column, called \"label\", is the digit that was drawn by the user. The rest of the columns contain the pixel-values of the associated image.\n",
    "\n",
    "  * Each pixel column in the training set has a name like pixelx, where x is an integer between 0 and 783, inclusive. To locate this pixel on the image, suppose that we have decomposed x as x = i * 28 + j, where i and j are integers between 0 and 27, inclusive. Then pixelx is located on row i and column j of a 28 x 28 matrix, (indexing by zero).\n",
    "  "
   ]
  },
  {
   "cell_type": "markdown",
   "metadata": {},
   "source": [
    "### 2.1) Load and normalize the training data sets:"
   ]
  },
  {
   "cell_type": "code",
   "execution_count": 46,
   "metadata": {
    "scrolled": false
   },
   "outputs": [
    {
     "name": "stdout",
     "output_type": "stream",
     "text": [
      "----------------------------------------------\n",
      "Training data:\n",
      "----------------------------------------------\n",
      "x_train.shape:  (42000, 784)\n",
      "y_train.shape:  (42000,)\n",
      "Number of training images:  42000\n",
      "Image size:  (784,)\n",
      "----------------------------------------------\n",
      "Classes/labels:\n",
      "----------------------------------------------\n",
      "The target labels: [0 1 2 3 4 5 6 7 8 9]\n",
      "----------------------------------------------\n"
     ]
    }
   ],
   "source": [
    "# read the training data set\n",
    "data = pd.read_csv('../large_files/train.csv').values.astype(np.float32)\n",
    "# normalize the training data to [0,1]:\n",
    "x_train = data[:, 1:] / 255.0\n",
    "# format the class type to integer\n",
    "y_train = data[:, 0].astype(np.int32)\n",
    "# shuffle the data\n",
    "x_train, y_train = shuffle(x_train, y_train)\n",
    "\n",
    "#------------------------------------------------------\n",
    "# Display a summary of the training data:\n",
    "#------------------------------------------------------\n",
    "# the number of training images\n",
    "num_train_images = x_train.shape[0]\n",
    "print(\"----------------------------------------------\")\n",
    "print(\"Training data:\")\n",
    "print(\"----------------------------------------------\")\n",
    "print(\"x_train.shape: \", x_train.shape)\n",
    "print(\"y_train.shape: \", y_train.shape)\n",
    "print(\"Number of training images: \", num_train_images)\n",
    "print(\"Image size: \", x_train.shape[1:])\n",
    "print(\"----------------------------------------------\")\n",
    "print(\"Classes/labels:\")\n",
    "print(\"----------------------------------------------\")\n",
    "print('The target labels: ' + str(np.unique(y_train)))\n",
    "print(\"----------------------------------------------\")"
   ]
  },
  {
   "cell_type": "markdown",
   "metadata": {},
   "source": [
    "### 2.2) Visualize some of the training images and their associated targets:\n",
    "#### 2.2.1) First implement a visualization functionality to visualize the number of randomly selected images:"
   ]
  },
  {
   "cell_type": "code",
   "execution_count": 47,
   "metadata": {
    "scrolled": false
   },
   "outputs": [],
   "source": [
    "\"\"\"\n",
    "# A utility function to visualize multiple images:\n",
    "\"\"\"\n",
    "def visualize_images_and_labels(num_visualized_images = 25, dataset_flag = 1):\n",
    "  \"\"\"To visualize images.\n",
    "\n",
    "      Keyword arguments:\n",
    "         - num_visualized_images -- the number of visualized images (deafult 25)\n",
    "         - dataset_flag -- 1: training dataset, 2: test dataset\n",
    "      Return:\n",
    "         - None\n",
    "  \"\"\"\n",
    "  #--------------------------------------------\n",
    "  # the suplot grid shape:\n",
    "  #--------------------------------------------\n",
    "  num_rows = 5\n",
    "  # the number of columns\n",
    "  num_cols = num_visualized_images // num_rows\n",
    "  # setup the subplots axes\n",
    "  fig, axes = plt.subplots(nrows=num_rows, ncols=num_cols, figsize=(8, 10))\n",
    "  # set a seed random number generator for reproducible results\n",
    "  seed(random_state_seed)\n",
    "  # iterate over the sub-plots\n",
    "  for row in range(num_rows):\n",
    "      for col in range(num_cols):\n",
    "        # get the next figure axis\n",
    "        ax = axes[row, col];\n",
    "        # turn-off subplot axis\n",
    "        ax.set_axis_off()\n",
    "        #--------------------------------------------\n",
    "        # if the dataset_flag = 1: Training data set\n",
    "        #--------------------------------------------\n",
    "        if ( dataset_flag == 1 ): \n",
    "          # generate a random image counter\n",
    "          counter = randint(0,num_train_images)\n",
    "          # get the training image\n",
    "          image = np.squeeze(x_train[counter,:])\n",
    "          # get the target associated with the image\n",
    "          label = y_train[counter]\n",
    "        #--------------------------------------------\n",
    "        # dataset_flag = 2: Test data set\n",
    "        #--------------------------------------------\n",
    "        else: \n",
    "          # generate a random image counter\n",
    "          counter = randint(0,num_test_images)\n",
    "          # get the test image\n",
    "          image = np.squeeze(x_test[counter,:])\n",
    "          # get the target associated with the image\n",
    "          label = y_test[counter]\n",
    "        #--------------------------------------------\n",
    "        # display the image\n",
    "        #--------------------------------------------\n",
    "        ax.imshow(image.reshape(28,28), cmap=plt.cm.gray_r, interpolation='nearest')\n",
    "        # set the title showing the image label\n",
    "        ax.set_title('y =' + str(label), size = 8)"
   ]
  },
  {
   "cell_type": "markdown",
   "metadata": {},
   "source": [
    "#### 2.2.2) Call the function to visualize the randomly selected training images:"
   ]
  },
  {
   "cell_type": "code",
   "execution_count": 48,
   "metadata": {
    "scrolled": false
   },
   "outputs": [
    {
     "data": {
      "image/png": "[encoded data removed]",
      "text/plain": [
       "<Figure size 576x720 with 25 Axes>"
      ]
     },
     "metadata": {
      "needs_background": "light"
     },
     "output_type": "display_data"
    }
   ],
   "source": [
    "# the number of selected training images\n",
    "num_visualized_images = 25\n",
    "# call the function to visualize the training images\n",
    "visualize_images_and_labels(num_visualized_images, 1)"
   ]
  },
  {
   "cell_type": "markdown",
   "metadata": {},
   "source": [
    "### 2.3) Examine the number of images for each class of the training and testing subsets:"
   ]
  },
  {
   "cell_type": "code",
   "execution_count": 49,
   "metadata": {
    "scrolled": false
   },
   "outputs": [
    {
     "data": {
      "image/png": "[encoded data removed]",
      "text/plain": [
       "<Figure size 432x288 with 1 Axes>"
      ]
     },
     "metadata": {
      "needs_background": "light"
     },
     "output_type": "display_data"
    }
   ],
   "source": [
    "# create a histogram of the number of images in each class/digit:\n",
    "def plot_bar(y, loc='left', relative=True):\n",
    "    width = 0.35\n",
    "    if loc == 'left':\n",
    "        n = -0.5\n",
    "    elif loc == 'right':\n",
    "        n = 0.5\n",
    "     \n",
    "    # calculate counts per type and sort, to ensure their order\n",
    "    unique, counts = np.unique(y, return_counts=True)\n",
    "    sorted_index = np.argsort(unique)\n",
    "    unique = unique[sorted_index]\n",
    "     \n",
    "    if relative:\n",
    "        # plot as a percentage\n",
    "        counts = 100*counts[sorted_index]/len(y)\n",
    "        ylabel_text = '% count'\n",
    "    else:\n",
    "        # plot counts\n",
    "        counts = counts[sorted_index]\n",
    "        ylabel_text = 'count'\n",
    "         \n",
    "    xtemp = np.arange(len(unique))\n",
    "    plt.bar(xtemp + n*width, counts, align='center', alpha=.7, width=width)\n",
    "    plt.xticks(xtemp, unique, rotation=45)\n",
    "    plt.xlabel('digit')\n",
    "    plt.ylabel(ylabel_text)\n",
    " \n",
    "plt.suptitle('Frequency of images per digit')\n",
    "plot_bar(y_train, loc='left')\n",
    "plt.legend([\n",
    "    'train ({0} images)'.format(len(y_train))\n",
    "]);"
   ]
  },
  {
   "cell_type": "markdown",
   "metadata": {},
   "source": [
    "## Part 3: Implement the Autoencoder:\n",
    "### 3.1) Implement the Autoencoder class:"
   ]
  },
  {
   "cell_type": "code",
   "execution_count": 58,
   "metadata": {
    "scrolled": false
   },
   "outputs": [],
   "source": [
    "class Autoencoder:\n",
    "  def __init__(self, D, M):\n",
    "    \"\"\"\n",
    "    Autoencoder constructor\n",
    "    \"\"\"\n",
    "    # represents a batch of training data\n",
    "    self.X = tf.placeholder(tf.float32, shape=(None, D))\n",
    "\n",
    "    # input -> hidden\n",
    "    self.W = tf.Variable(tf.random_normal(shape=(D, M)) * np.sqrt(2.0 / M))\n",
    "    self.b = tf.Variable(np.zeros(M).astype(np.float32))\n",
    "\n",
    "    # hidden -> output\n",
    "    self.V = tf.Variable(tf.random_normal(shape=(M, D)) * np.sqrt(2.0 / D))\n",
    "    self.c = tf.Variable(np.zeros(D).astype(np.float32))\n",
    "\n",
    "    # construct the reconstruction\n",
    "    self.Z = tf.nn.relu(tf.matmul(self.X, self.W) + self.b)\n",
    "    logits = tf.matmul(self.Z, self.V) + self.c\n",
    "    self.X_hat = tf.nn.sigmoid(logits)\n",
    "\n",
    "    # compute the cost\n",
    "    self.cost = tf.reduce_sum(\n",
    "      tf.nn.sigmoid_cross_entropy_with_logits(\n",
    "        labels=self.X,\n",
    "        logits=logits\n",
    "      )\n",
    "    )\n",
    "\n",
    "    # create the trainer\n",
    "    self.train_op = tf.train.RMSPropOptimizer(learning_rate=0.001).minimize(self.cost)\n",
    "\n",
    "    # set up session and variables for later\n",
    "    self.init_op = tf.global_variables_initializer()\n",
    "    self.sess = tf.InteractiveSession()\n",
    "    self.sess.run(self.init_op)\n",
    "\n",
    "  def fit(self, X, epochs=30, batch_sz=64):\n",
    "    \"\"\"\n",
    "    Fit the model\n",
    "    \"\"\"\n",
    "    costs = []\n",
    "    n_batches = len(X) // batch_sz\n",
    "    print(\"-----------------------------\")\n",
    "    print(\"n_batches:\", n_batches)\n",
    "    for i in range(epochs):\n",
    "      print(\"-----------------------------\")\n",
    "      print(\"epoch:\", i)\n",
    "      print(\"-----------------------------\")\n",
    "      np.random.shuffle(X)\n",
    "      for j in range(n_batches):\n",
    "        batch = X[j*batch_sz:(j+1)*batch_sz]\n",
    "        _, c, = self.sess.run((self.train_op, self.cost), feed_dict={self.X: batch})\n",
    "        c /= batch_sz \n",
    "        costs.append(c)\n",
    "        # display the cost for selected epochs\n",
    "        if j % 200 == 0:\n",
    "          print(\"iter: %d, cost: %.3f\" % (j, c))\n",
    "    print(\"-----------------------------\")\n",
    "    print('Training completed successfully!')\n",
    "    print(\"-----------------------------\")\n",
    "    #----------------------------------------\n",
    "    # display the cost/function as a function \n",
    "    # of the epochs\n",
    "    #----------------------------------------\n",
    "    # create a figure and set its axis\n",
    "    fig_size = (8,5)\n",
    "    # create the figure \n",
    "    plt.figure(figsize=fig_size)\n",
    "    plt.plot(costs)\n",
    "    plt.title(\"Training lossas function of the epoch number\", fontsize = 12)\n",
    "    plt.xlabel(\"Epoch number\", fontsize = 12)\n",
    "    plt.ylabel(\"Loss\", fontsize = 12)\n",
    "    plt.show()\n",
    "        \n",
    "  def predict(self, X):\n",
    "    \"\"\"\n",
    "    Generate Autoencoder reconstruction of the input X\n",
    "    \"\"\"\n",
    "    return self.sess.run(self.X_hat, feed_dict={self.X: X})"
   ]
  },
  {
   "cell_type": "markdown",
   "metadata": {},
   "source": [
    "### 3.2) Instantiate and fit the Autoencoder:"
   ]
  },
  {
   "cell_type": "code",
   "execution_count": 59,
   "metadata": {
    "scrolled": false
   },
   "outputs": [
    {
     "name": "stdout",
     "output_type": "stream",
     "text": [
      "-----------------------------\n",
      "n_batches: 656\n",
      "-----------------------------\n",
      "epoch: 0\n",
      "-----------------------------\n",
      "iter: 0, cost: 561.439\n",
      "iter: 200, cost: 89.177\n",
      "iter: 400, cost: 72.817\n",
      "iter: 600, cost: 65.689\n",
      "-----------------------------\n",
      "epoch: 1\n",
      "-----------------------------\n",
      "iter: 0, cost: 67.116\n",
      "iter: 200, cost: 64.267\n",
      "iter: 400, cost: 61.165\n",
      "iter: 600, cost: 60.009\n",
      "-----------------------------\n",
      "epoch: 2\n",
      "-----------------------------\n",
      "iter: 0, cost: 57.817\n",
      "iter: 200, cost: 57.601\n",
      "iter: 400, cost: 53.689\n",
      "iter: 600, cost: 57.553\n",
      "-----------------------------\n",
      "epoch: 3\n",
      "-----------------------------\n",
      "iter: 0, cost: 55.786\n",
      "iter: 200, cost: 55.598\n",
      "iter: 400, cost: 51.415\n",
      "iter: 600, cost: 57.002\n",
      "-----------------------------\n",
      "epoch: 4\n",
      "-----------------------------\n",
      "iter: 0, cost: 54.759\n",
      "iter: 200, cost: 58.953\n",
      "iter: 400, cost: 56.898\n",
      "iter: 600, cost: 53.679\n",
      "-----------------------------\n",
      "epoch: 5\n",
      "-----------------------------\n",
      "iter: 0, cost: 53.436\n",
      "iter: 200, cost: 52.933\n",
      "iter: 400, cost: 53.145\n",
      "iter: 600, cost: 55.565\n",
      "-----------------------------\n",
      "epoch: 6\n",
      "-----------------------------\n",
      "iter: 0, cost: 55.076\n",
      "iter: 200, cost: 51.454\n",
      "iter: 400, cost: 54.730\n",
      "iter: 600, cost: 49.060\n",
      "-----------------------------\n",
      "epoch: 7\n",
      "-----------------------------\n",
      "iter: 0, cost: 53.149\n",
      "iter: 200, cost: 52.950\n",
      "iter: 400, cost: 53.167\n",
      "iter: 600, cost: 55.356\n",
      "-----------------------------\n",
      "epoch: 8\n",
      "-----------------------------\n",
      "iter: 0, cost: 53.139\n",
      "iter: 200, cost: 52.592\n",
      "iter: 400, cost: 54.181\n",
      "iter: 600, cost: 52.899\n",
      "-----------------------------\n",
      "epoch: 9\n",
      "-----------------------------\n",
      "iter: 0, cost: 52.258\n",
      "iter: 200, cost: 52.173\n",
      "iter: 400, cost: 51.527\n",
      "iter: 600, cost: 52.454\n",
      "-----------------------------\n",
      "epoch: 10\n",
      "-----------------------------\n",
      "iter: 0, cost: 50.111\n",
      "iter: 200, cost: 55.539\n",
      "iter: 400, cost: 50.339\n",
      "iter: 600, cost: 51.889\n",
      "-----------------------------\n",
      "epoch: 11\n",
      "-----------------------------\n",
      "iter: 0, cost: 54.698\n",
      "iter: 200, cost: 53.400\n",
      "iter: 400, cost: 53.058\n",
      "iter: 600, cost: 49.735\n",
      "-----------------------------\n",
      "epoch: 12\n",
      "-----------------------------\n",
      "iter: 0, cost: 51.860\n",
      "iter: 200, cost: 50.054\n",
      "iter: 400, cost: 52.135\n",
      "iter: 600, cost: 52.221\n",
      "-----------------------------\n",
      "epoch: 13\n",
      "-----------------------------\n",
      "iter: 0, cost: 52.962\n",
      "iter: 200, cost: 53.080\n",
      "iter: 400, cost: 51.806\n",
      "iter: 600, cost: 52.228\n",
      "-----------------------------\n",
      "epoch: 14\n",
      "-----------------------------\n",
      "iter: 0, cost: 50.708\n",
      "iter: 200, cost: 50.627\n",
      "iter: 400, cost: 52.834\n",
      "iter: 600, cost: 50.128\n",
      "-----------------------------\n",
      "epoch: 15\n",
      "-----------------------------\n",
      "iter: 0, cost: 53.748\n",
      "iter: 200, cost: 52.560\n",
      "iter: 400, cost: 53.784\n",
      "iter: 600, cost: 53.287\n",
      "-----------------------------\n",
      "epoch: 16\n",
      "-----------------------------\n",
      "iter: 0, cost: 49.421\n",
      "iter: 200, cost: 52.278\n",
      "iter: 400, cost: 49.873\n",
      "iter: 600, cost: 49.296\n",
      "-----------------------------\n",
      "epoch: 17\n",
      "-----------------------------\n",
      "iter: 0, cost: 50.368\n",
      "iter: 200, cost: 54.822\n",
      "iter: 400, cost: 50.563\n",
      "iter: 600, cost: 49.292\n",
      "-----------------------------\n",
      "epoch: 18\n",
      "-----------------------------\n",
      "iter: 0, cost: 49.591\n",
      "iter: 200, cost: 51.719\n",
      "iter: 400, cost: 53.689\n",
      "iter: 600, cost: 52.289\n",
      "-----------------------------\n",
      "epoch: 19\n",
      "-----------------------------\n",
      "iter: 0, cost: 50.691\n",
      "iter: 200, cost: 53.169\n",
      "iter: 400, cost: 50.056\n",
      "iter: 600, cost: 51.183\n",
      "-----------------------------\n",
      "epoch: 20\n",
      "-----------------------------\n",
      "iter: 0, cost: 51.386\n",
      "iter: 200, cost: 49.767\n",
      "iter: 400, cost: 53.569\n",
      "iter: 600, cost: 50.067\n",
      "-----------------------------\n",
      "epoch: 21\n",
      "-----------------------------\n",
      "iter: 0, cost: 52.456\n",
      "iter: 200, cost: 50.013\n",
      "iter: 400, cost: 51.882\n",
      "iter: 600, cost: 52.533\n",
      "-----------------------------\n",
      "epoch: 22\n",
      "-----------------------------\n",
      "iter: 0, cost: 50.047\n",
      "iter: 200, cost: 51.510\n",
      "iter: 400, cost: 52.467\n",
      "iter: 600, cost: 51.009\n",
      "-----------------------------\n",
      "epoch: 23\n",
      "-----------------------------\n",
      "iter: 0, cost: 49.517\n",
      "iter: 200, cost: 49.684\n",
      "iter: 400, cost: 49.737\n",
      "iter: 600, cost: 50.821\n",
      "-----------------------------\n",
      "epoch: 24\n",
      "-----------------------------\n",
      "iter: 0, cost: 50.879\n",
      "iter: 200, cost: 46.313\n",
      "iter: 400, cost: 51.796\n",
      "iter: 600, cost: 53.658\n",
      "-----------------------------\n",
      "epoch: 25\n",
      "-----------------------------\n",
      "iter: 0, cost: 51.590\n",
      "iter: 200, cost: 51.759\n",
      "iter: 400, cost: 51.277\n",
      "iter: 600, cost: 51.110\n",
      "-----------------------------\n",
      "epoch: 26\n",
      "-----------------------------\n",
      "iter: 0, cost: 51.234\n",
      "iter: 200, cost: 51.474\n",
      "iter: 400, cost: 51.864\n",
      "iter: 600, cost: 52.909\n",
      "-----------------------------\n",
      "epoch: 27\n",
      "-----------------------------\n",
      "iter: 0, cost: 52.905\n",
      "iter: 200, cost: 50.405\n",
      "iter: 400, cost: 49.567\n",
      "iter: 600, cost: 49.784\n",
      "-----------------------------\n",
      "epoch: 28\n",
      "-----------------------------\n",
      "iter: 0, cost: 49.798\n",
      "iter: 200, cost: 53.261\n",
      "iter: 400, cost: 49.689\n",
      "iter: 600, cost: 51.072\n",
      "-----------------------------\n",
      "epoch: 29\n",
      "-----------------------------\n",
      "iter: 0, cost: 50.534\n",
      "iter: 200, cost: 53.074\n",
      "iter: 400, cost: 50.685\n",
      "iter: 600, cost: 50.430\n",
      "-----------------------------\n",
      "Training completed successfully!\n",
      "-----------------------------\n"
     ]
    },
    {
     "data": {
      "image/png": "[encoded data removed]",
      "text/plain": [
       "<Figure size 576x360 with 1 Axes>"
      ]
     },
     "metadata": {
      "needs_background": "light"
     },
     "output_type": "display_data"
    }
   ],
   "source": [
    "# Instantiate the Autoencoder\n",
    "model = Autoencoder(784, 300)\n",
    "# Fit the Autoencoder to the training data and plot the loss/cost function\n",
    "model.fit(x_train)"
   ]
  },
  {
   "cell_type": "markdown",
   "metadata": {},
   "source": [
    "### 3.3) Use the trained Autoencoder to reconstruct the input images:\n",
    "* Randomly select input images and reconstruct them using the trained Autoencoder:"
   ]
  },
  {
   "cell_type": "code",
   "execution_count": 55,
   "metadata": {
    "scrolled": false
   },
   "outputs": [
    {
     "data": {
      "image/png": "[encoded data removed]",
      "text/plain": [
       "<Figure size 504x216 with 2 Axes>"
      ]
     },
     "metadata": {
      "needs_background": "light"
     },
     "output_type": "display_data"
    },
    {
     "data": {
      "image/png": "[encoded data removed]",
      "text/plain": [
       "<Figure size 504x216 with 2 Axes>"
      ]
     },
     "metadata": {
      "needs_background": "light"
     },
     "output_type": "display_data"
    },
    {
     "data": {
      "image/png": "[encoded data removed]",
      "text/plain": [
       "<Figure size 504x216 with 2 Axes>"
      ]
     },
     "metadata": {
      "needs_background": "light"
     },
     "output_type": "display_data"
    },
    {
     "data": {
      "image/png": "[encoded data removed]",
      "text/plain": [
       "<Figure size 504x216 with 2 Axes>"
      ]
     },
     "metadata": {
      "needs_background": "light"
     },
     "output_type": "display_data"
    },
    {
     "data": {
      "image/png": "[encoded data removed]",
      "text/plain": [
       "<Figure size 504x216 with 2 Axes>"
      ]
     },
     "metadata": {
      "needs_background": "light"
     },
     "output_type": "display_data"
    },
    {
     "data": {
      "image/png": "[encoded data removed]",
      "text/plain": [
       "<Figure size 504x216 with 2 Axes>"
      ]
     },
     "metadata": {
      "needs_background": "light"
     },
     "output_type": "display_data"
    },
    {
     "data": {
      "image/png": "[encoded data removed]",
      "text/plain": [
       "<Figure size 504x216 with 2 Axes>"
      ]
     },
     "metadata": {
      "needs_background": "light"
     },
     "output_type": "display_data"
    },
    {
     "data": {
      "image/png": "[encoded data removed]",
      "text/plain": [
       "<Figure size 504x216 with 2 Axes>"
      ]
     },
     "metadata": {
      "needs_background": "light"
     },
     "output_type": "display_data"
    },
    {
     "data": {
      "image/png": "[encoded data removed]",
      "text/plain": [
       "<Figure size 504x216 with 2 Axes>"
      ]
     },
     "metadata": {
      "needs_background": "light"
     },
     "output_type": "display_data"
    },
    {
     "data": {
      "image/png": "[encoded data removed]",
      "text/plain": [
       "<Figure size 504x216 with 2 Axes>"
      ]
     },
     "metadata": {
      "needs_background": "light"
     },
     "output_type": "display_data"
    }
   ],
   "source": [
    "# the number of reconstructed images\n",
    "num_reconstructed_images = 10\n",
    "for i in range(num_reconstructed_images):\n",
    "    #----------------------------------------\n",
    "    # Step 1: select a random input image:\n",
    "    #----------------------------------------\n",
    "    i = np.random.choice(len(x_train))\n",
    "    x = x_train[i]\n",
    "    k = y_train[i]\n",
    "    im = model.predict([x]).reshape(28, 28)\n",
    "    #----------------------------------------\n",
    "    # display the original and reconstructed \n",
    "    # images:\n",
    "    #----------------------------------------\n",
    "    # create a figure and set its axis\n",
    "    fig_size = (7,3)\n",
    "    # create the figure \n",
    "    plt.figure(figsize=fig_size)\n",
    "    # display the sample\n",
    "    plt.subplot(1,2,1)\n",
    "    plt.imshow(x.reshape(28, 28), cmap='gray')\n",
    "    plt.title(\"Original image with class: \" + str(k), fontsize = 12)\n",
    "    plt.axis('off')\n",
    "    plt.subplot(1,2,2)\n",
    "    plt.imshow(im, cmap='gray')\n",
    "    plt.title(\"Autoencoder reconstruction\", fontsize = 12)\n",
    "    plt.axis('off')\n",
    "    plt.show()\n"
   ]
  },
  {
   "cell_type": "markdown",
   "metadata": {},
   "source": [
    "#### Step 5: Display a successful execution message:"
   ]
  },
  {
   "cell_type": "code",
   "execution_count": 56,
   "metadata": {
    "scrolled": false
   },
   "outputs": [
    {
     "name": "stdout",
     "output_type": "stream",
     "text": [
      "Program executed successfully on: 2021-05-10 15:06:07...Goodbye!\n",
      "\n"
     ]
    }
   ],
   "source": [
    "# display a final message\n",
    "# current time\n",
    "now = datetime.datetime.now()\n",
    "# display a message\n",
    "print('Program executed successfully on: '+ str(now.strftime(\"%Y-%m-%d %H:%M:%S\") + \"...Goodbye!\\n\"))"
   ]
  },
  {
   "cell_type": "code",
   "execution_count": null,
   "metadata": {
    "scrolled": true
   },
   "outputs": [],
   "source": []
  }
 ],
 "metadata": {
  "kernelspec": {
   "display_name": "Python 3",
   "language": "python",
   "name": "python3"
  },
  "language_info": {
   "codemirror_mode": {
    "name": "ipython",
    "version": 3
   },
   "file_extension": ".py",
   "mimetype": "text/x-python",
   "name": "python",
   "nbconvert_exporter": "python",
   "pygments_lexer": "ipython3",
   "version": "3.8.5"
  }
 },
 "nbformat": 4,
 "nbformat_minor": 4
}
